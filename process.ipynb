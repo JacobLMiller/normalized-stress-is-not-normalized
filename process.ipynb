{
 "cells": [
  {
   "cell_type": "code",
   "execution_count": 2,
   "metadata": {},
   "outputs": [],
   "source": [
    "import json \n",
    "import os\n",
    "import re\n",
    "import numpy as np\n",
    "\n",
    "from collections import defaultdict"
   ]
  },
  {
   "cell_type": "code",
   "execution_count": 8,
   "metadata": {},
   "outputs": [],
   "source": [
    "datamap = {\"KL\": defaultdict(dict), \"stress\": defaultdict(dict)}\n",
    "\n",
    "\n",
    "for metric in [\"KL\", \"stress\"]:\n",
    "    for folder in os.listdir(metric):\n",
    "        scales = [int(d) for d in re.findall(r\"\\d+\", folder)]\n",
    "\n",
    "\n",
    "        for dataset in os.listdir(f\"{metric}/{folder}\"):\n",
    "            if \"fashion_mnist\" in dataset: dataset = dataset.replace(\"fashion_mnist\", \"fashion-mnist\")\n",
    "            if \"scales\" in dataset: continue\n",
    "\n",
    "            \n",
    "            dname, algname, run = dataset.split(\"_\")\n",
    "            if '0' not in run: continue\n",
    "\n",
    "            datamap[metric][dname]['scales'] = scales\n",
    "\n",
    "\n",
    "            if 'fashion' in dataset: dataset = dataset.replace(\"fashion-mnist\", 'fashion_mnist')\n",
    "            X = np.load(f\"{metric}/{folder}/{dataset}\")\n",
    "            vals = [round(float(x), 4) for x in X]\n",
    "            \n",
    "            datamap[metric][dname][algname] = vals\n",
    "            "
   ]
  },
  {
   "cell_type": "code",
   "execution_count": 9,
   "metadata": {},
   "outputs": [],
   "source": [
    "mapbyname = {alg: {\"KL\": datamap[\"KL\"][alg], \"stress\": datamap[\"stress\"][alg]} for alg in datamap[\"KL\"].keys()}"
   ]
  },
  {
   "cell_type": "code",
   "execution_count": 10,
   "metadata": {},
   "outputs": [],
   "source": [
    "with open(\"output.json\", 'w') as fdata:\n",
    "    json.dump(mapbyname,fdata)"
   ]
  }
 ],
 "metadata": {
  "kernelspec": {
   "display_name": "gt",
   "language": "python",
   "name": "python3"
  },
  "language_info": {
   "codemirror_mode": {
    "name": "ipython",
    "version": 3
   },
   "file_extension": ".py",
   "mimetype": "text/x-python",
   "name": "python",
   "nbconvert_exporter": "python",
   "pygments_lexer": "ipython3",
   "version": "3.12.5"
  }
 },
 "nbformat": 4,
 "nbformat_minor": 2
}
